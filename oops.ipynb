{
 "cells": [
  {
   "cell_type": "code",
   "execution_count": 2,
   "id": "ff982573",
   "metadata": {},
   "outputs": [
    {
     "name": "stdout",
     "output_type": "stream",
     "text": [
      "3.9.13 (main, Aug 25 2022, 23:51:50) [MSC v.1916 64 bit (AMD64)]\n"
     ]
    }
   ],
   "source": [
    "import sys\n",
    "print(sys.version)"
   ]
  },
  {
   "cell_type": "markdown",
   "id": "59f98e1e",
   "metadata": {},
   "source": [
    "## 1. Class and instances"
   ]
  },
  {
   "cell_type": "code",
   "execution_count": 17,
   "id": "e8854f8d",
   "metadata": {},
   "outputs": [
    {
     "name": "stdout",
     "output_type": "stream",
     "text": [
      "prasun paul\n",
      "Email:  prasun.paul@company.com\n",
      "abc xyz\n",
      "Email:  abc.xyz@company.com\n",
      "**********\n",
      "prasun paul\n",
      "abc xyz\n"
     ]
    }
   ],
   "source": [
    "class Employee:\n",
    "    def __init__(self, first, last, pay):\n",
    "        self.first = first\n",
    "        self.last = last\n",
    "        self.pay = pay\n",
    "        self.email = first + '.' + last + '@company.com'\n",
    "        \n",
    "    def fullname(self):\n",
    "        return '{} {}'.format(self.first, self.last)\n",
    "        \n",
    "emp1 = Employee('prasun', 'paul', 20000)\n",
    "emp2 = Employee('abc', 'xyz', 10000)\n",
    "\n",
    "\n",
    "#print('Employee name: {} {}'.format(emp1.first, emp1.last))\n",
    "print(emp1.fullname())\n",
    "print('Email: ',emp1.email)\n",
    "\n",
    "#print('Employee name: {} {}'.format(emp2.first, emp2.last))\n",
    "print(emp2.fullname())\n",
    "print('Email: ',emp2.email)\n",
    "\n",
    "print(10*\"*\")\n",
    "\n",
    "print(Employee.fullname(emp1))\n",
    "\n",
    "print(Employee.fullname(emp2))"
   ]
  },
  {
   "cell_type": "markdown",
   "id": "d10088be",
   "metadata": {},
   "source": [
    "## 2. Class variables"
   ]
  },
  {
   "cell_type": "code",
   "execution_count": 33,
   "id": "cacd277a",
   "metadata": {},
   "outputs": [
    {
     "name": "stdout",
     "output_type": "stream",
     "text": [
      "prasun paul\n",
      "Email:  prasun.paul@company.com\n",
      "abc xyz\n",
      "Email:  abc.xyz@company.com\n",
      "**********\n",
      "prasun paul\n",
      "abc xyz\n",
      "**********\n",
      "<class '__main__.Employee'>\n",
      "{'first': 'prasun', 'last': 'paul', 'email': 'prasun.paul@company.com'}\n",
      "1.04\n",
      "num of employees  2\n"
     ]
    }
   ],
   "source": [
    "class Employee:\n",
    "    \n",
    "    raise_amount = 1.04\n",
    "    num_of_emp = 0\n",
    "    \n",
    "    def __init__(self, first, last, pay):\n",
    "        self.first = first\n",
    "        self.last = last\n",
    "        #self.pay = apply_raise(self)\n",
    "        self.email = first + '.' + last + '@company.com'\n",
    "        \n",
    "        Employee.num_of_emp += 1\n",
    "        \n",
    "    def fullname(self):\n",
    "        return '{} {}'.format(self.first, self.last)\n",
    "    \n",
    "    def apply_raise(self):\n",
    "        self.pay = int(self.pay * self.raise_amount)\n",
    "        \n",
    "    \n",
    "        \n",
    "emp1 = Employee('prasun', 'paul', 20000)\n",
    "emp2 = Employee('abc', 'xyz', 10000)\n",
    "\n",
    "\n",
    "#print('Employee name: {} {}'.format(emp1.first, emp1.last))\n",
    "print(emp1.fullname())\n",
    "print('Email: ',emp1.email)\n",
    "\n",
    "#print('Employee name: {} {}'.format(emp2.first, emp2.last))\n",
    "print(emp2.fullname())\n",
    "print('Email: ',emp2.email)\n",
    "\n",
    "print(10*\"*\")\n",
    "\n",
    "print(Employee.fullname(emp1))\n",
    "\n",
    "print(Employee.fullname(emp2))\n",
    "\n",
    "print(10*\"*\")\n",
    "\n",
    "print(Employee)\n",
    "print(emp1.__dict__)\n",
    "print(emp1.raise_amount)\n",
    "print('num of employees ',Employee.num_of_emp)"
   ]
  },
  {
   "cell_type": "markdown",
   "id": "484ae881",
   "metadata": {},
   "source": [
    "## 3. class methods and static methods"
   ]
  },
  {
   "cell_type": "code",
   "execution_count": 55,
   "id": "72e4522f",
   "metadata": {},
   "outputs": [
    {
     "name": "stdout",
     "output_type": "stream",
     "text": [
      "prasun.paul@company.com\n",
      "abc.xyz@company.com\n",
      "prasun\n",
      "paul\n"
     ]
    }
   ],
   "source": [
    "class Employee:\n",
    "    \n",
    "    raise_amount = 1.04\n",
    "    num_of_emp = 0\n",
    "    \n",
    "    def __init__(self, first, last, pay):\n",
    "        self.first = first\n",
    "        self.last = last\n",
    "        #self.pay = apply_raise(self)\n",
    "        self.email = first + '.' + last + '@company.com'\n",
    "        \n",
    "        Employee.num_of_emp += 1\n",
    "        \n",
    "    def fullname(self):\n",
    "        return '{} {}'.format(self.first, self.last)\n",
    "    \n",
    "    def apply_raise(self):\n",
    "        self.pay = int(self.pay * self.raise_amount)\n",
    "        \n",
    "    @classmethod\n",
    "    def set_raise_amt(cls, amount):\n",
    "        cls.raise_amount = amount\n",
    "        \n",
    "    @classmethod\n",
    "    def from_string(cls, emp_str):\n",
    "        first, last, pay = emp_str.split('-')\n",
    "        return cls(first, last, pay)\n",
    "        \n",
    "    \n",
    "\n",
    "emp_str_1 = 'prasun-paul-20000'\n",
    "emp_str_2 = 'abc-xyz-10000'\n",
    "\n",
    "#first1, last1, pay1 = emp_str_1.split('-')\n",
    "#first2, last2, pay2 = emp_str_2.split('-')\n",
    "        \n",
    "#emp1 = Employee(first1, last1, pay1)\n",
    "#emp2 = Employee(first2, last2, pay2)\n",
    "\n",
    "print(emp1.email)\n",
    "print(emp2.email)\n",
    "print(Employee.from_string(emp_str_1).first)\n",
    "print(Employee.from_string(emp_str_1).last)\n",
    "\n",
    "#print('previous raise amt ', Employee.raise_amount)\n",
    "#Employee.set_raise_amt(1.06)\n",
    "#print('updated rase amt ', Employee.raise_amount)"
   ]
  },
  {
   "cell_type": "code",
   "execution_count": null,
   "id": "27ea1666",
   "metadata": {},
   "outputs": [],
   "source": []
  },
  {
   "cell_type": "code",
   "execution_count": null,
   "id": "689958b6",
   "metadata": {},
   "outputs": [],
   "source": []
  }
 ],
 "metadata": {
  "kernelspec": {
   "display_name": "Python 3 (ipykernel)",
   "language": "python",
   "name": "python3"
  },
  "language_info": {
   "codemirror_mode": {
    "name": "ipython",
    "version": 3
   },
   "file_extension": ".py",
   "mimetype": "text/x-python",
   "name": "python",
   "nbconvert_exporter": "python",
   "pygments_lexer": "ipython3",
   "version": "3.9.13"
  }
 },
 "nbformat": 4,
 "nbformat_minor": 5
}
