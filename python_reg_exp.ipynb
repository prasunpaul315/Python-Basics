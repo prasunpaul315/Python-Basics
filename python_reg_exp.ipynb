{
 "cells": [
  {
   "cell_type": "code",
   "execution_count": 1,
   "id": "a059668e",
   "metadata": {},
   "outputs": [],
   "source": [
    "import re"
   ]
  },
  {
   "cell_type": "markdown",
   "id": "86a8653f",
   "metadata": {},
   "source": [
    "## 1. Check if the string starts with \"The\" and ends with \"Spain\""
   ]
  },
  {
   "cell_type": "code",
   "execution_count": 2,
   "id": "c0fcddb9",
   "metadata": {},
   "outputs": [
    {
     "name": "stdout",
     "output_type": "stream",
     "text": [
      "YES! We have a match!\n"
     ]
    }
   ],
   "source": [
    "txt = \"The rain in Spain\"\n",
    "x = re.search(\"^The.*Spain$\", txt)\n",
    "\n",
    "if x:\n",
    "    print(\"YES! We have a match!\")\n",
    "else:\n",
    "    print(\"No match\")"
   ]
  },
  {
   "cell_type": "markdown",
   "id": "cf80f9b6",
   "metadata": {},
   "source": [
    "## 2. Mask personal information in email and phone numbers\n",
    "\n",
    ">Email: xxxxxxxxx@aaaa.zzzz \\\n",
    ">Masked:x#####x@aaaa.zzzz [FIVE # between first and last char of the name] \\\n",
    ">Phone: digits 0-9 or any of the characters from { '-', '(', ')', ' '} \\\n",
    ">Example: 1(234)567-890 --> ###-###-7890\""
   ]
  },
  {
   "cell_type": "code",
   "execution_count": 3,
   "id": "fb518b6f",
   "metadata": {},
   "outputs": [],
   "source": [
    "# email-masking\n",
    "s = \"abcd@efgh.com\";\n",
    "#output: a#####d@efgh.com"
   ]
  },
  {
   "cell_type": "code",
   "execution_count": 4,
   "id": "c7550d30",
   "metadata": {},
   "outputs": [
    {
     "name": "stdout",
     "output_type": "stream",
     "text": [
      "p#############5@gmail.com\n"
     ]
    }
   ],
   "source": [
    "# boundary case: check if email or not\n",
    "s = \"abcd@efgh.com\"\n",
    "def maskEmail(s):\n",
    "    if '@' in s and '.' in s:\n",
    "        name, domain = s.split('@')\n",
    "        return (\"{0}\".format(name[0])+len(name)*\"#\"+\"{0}@{1}\".format(name[-1], domain));\n",
    "print(maskEmail('prasunpaul315@gmail.com'))"
   ]
  },
  {
   "cell_type": "code",
   "execution_count": 5,
   "id": "3d707906",
   "metadata": {},
   "outputs": [
    {
     "name": "stdout",
     "output_type": "stream",
     "text": [
      "p#p@gmail.com\n"
     ]
    }
   ],
   "source": [
    "print(maskEmail('p@gmail.com'))"
   ]
  },
  {
   "cell_type": "code",
   "execution_count": 6,
   "id": "9d3b8899",
   "metadata": {},
   "outputs": [
    {
     "name": "stdout",
     "output_type": "stream",
     "text": [
      "None\n"
     ]
    }
   ],
   "source": [
    "print(maskEmail('abc.com'))"
   ]
  },
  {
   "cell_type": "code",
   "execution_count": 7,
   "id": "d08b9f08",
   "metadata": {},
   "outputs": [
    {
     "name": "stdout",
     "output_type": "stream",
     "text": [
      "p#############1@iiitg.ac.in\n"
     ]
    }
   ],
   "source": [
    "print(maskEmail('prasun.paul21@iiitg.ac.in'))"
   ]
  },
  {
   "cell_type": "code",
   "execution_count": 8,
   "id": "3432c976",
   "metadata": {},
   "outputs": [
    {
     "name": "stdout",
     "output_type": "stream",
     "text": [
      "abcd@iiitg.ac.in\n",
      "<re.Match object; span=(0, 16), match='abcd@iiitg.ac.in'>\n"
     ]
    }
   ],
   "source": [
    "regex = '^\\w+([\\.-]?\\w+)*@\\w+([\\.-]?\\w+)*(\\.\\w{2,3})+$' # highly non-readbale code\n",
    "\n",
    "#https://docs.python.org/2/library/re.html\n",
    "regex_verbose = re.compile(r\"\"\"           # VERY readable and easy to understand. Software maintanability.\n",
    "                        ^\\w+([\\.-]?\\w+)*  # start, \\w+,\n",
    "                        @                 # single @ sign\n",
    "                        \\w+([\\.-]?\\w+)*   # Domain name\n",
    "                        (\\.\\w{2,3})+$     # .com, .ac.in,\n",
    "                        \"\"\",re.VERBOSE | re.IGNORECASE)\n",
    "\n",
    "res = regex_verbose.match(\"abcd@iiitg.ac.in\");\n",
    "print(res.string)\n",
    "print(res)"
   ]
  },
  {
   "cell_type": "code",
   "execution_count": 9,
   "id": "6a4e151b",
   "metadata": {},
   "outputs": [
    {
     "name": "stdout",
     "output_type": "stream",
     "text": [
      "1234567890\n"
     ]
    }
   ],
   "source": [
    "s = \"123abc4567xyz###890\"\n",
    "d = re.sub(\"\\D\", \"\", s)\n",
    "print(d)"
   ]
  },
  {
   "cell_type": "code",
   "execution_count": 10,
   "id": "b3d007e7",
   "metadata": {},
   "outputs": [
    {
     "name": "stdout",
     "output_type": "stream",
     "text": [
      "1234567890\n",
      "###-###-7890\n"
     ]
    }
   ],
   "source": [
    "# PHONE NUMBER MASKING\n",
    "#Example: 1(234)567-890 --> ###-###-7890\"\n",
    "ph = \"1(234)567-890\"\n",
    "digits = re.sub(\"\\D\", \"\", ph) # \\D=>non-decimal, re.substitute, https://docs.python.org/3/library/re.html\n",
    "print(digits)\n",
    "masked = \"###-###-{}\".format(digits[-4:])\n",
    "print(masked)"
   ]
  },
  {
   "cell_type": "markdown",
   "id": "eabcae0e",
   "metadata": {},
   "source": [
    "## 3. digit phone numbers with 2 digits of ISD code strtaing with +\n",
    "e.g: +86-(99)12345678 ----> (+86)-###-###-5678"
   ]
  },
  {
   "cell_type": "code",
   "execution_count": 11,
   "id": "cd19a7de",
   "metadata": {},
   "outputs": [
    {
     "name": "stdout",
     "output_type": "stream",
     "text": [
      "given number:  +86-(99)12345678\n",
      "digits:  869912345678\n",
      "(+86)-####-####-5678\n"
     ]
    }
   ],
   "source": [
    "s = \"+86-(99)12345678\"\n",
    "print(\"given number: \", s)\n",
    "dig = re.sub('\\D', \"\", s)\n",
    "print(\"digits: \",dig)\n",
    "\n",
    "print(\"(\"+s[:3]+\")-\"+\"####-####-\"+dig[-4:])"
   ]
  },
  {
   "cell_type": "markdown",
   "id": "e5fbdd28",
   "metadata": {},
   "source": [
    "## 4. Extract data from a PDF invoice"
   ]
  },
  {
   "cell_type": "code",
   "execution_count": 12,
   "id": "a9b28012",
   "metadata": {},
   "outputs": [
    {
     "name": "stdout",
     "output_type": "stream",
     "text": [
      "Requirement already satisfied: pyPDF4 in c:\\users\\i73406\\anaconda3\\lib\\site-packages (1.27.0)\n"
     ]
    }
   ],
   "source": [
    "!pip3 install pyPDF4"
   ]
  },
  {
   "cell_type": "code",
   "execution_count": 13,
   "id": "2a48e377",
   "metadata": {},
   "outputs": [
    {
     "name": "stdout",
     "output_type": "stream",
     "text": [
      "Invoice\n",
      "Payment is due within 30 days from date of invoice. Late payment is subject to fees of 5% per month.\n",
      "Thanks for choosing \n",
      "DEMO - Sliced Invoices\n",
      " | \n",
      "admin@slicedinvoices.com\n",
      "Page 1/1\n",
      "From:\n",
      "DEMO - Sliced Invoices\n",
      "Suite 5A-1204\n",
      "123 Somewhere Street\n",
      "Your City AZ 12345\n",
      "admin@slicedinvoices.com\n",
      "Invoice Number\n",
      "INV-3337\n",
      "Order Number\n",
      "12345\n",
      "Invoice Date\n",
      "January 25, 2016\n",
      "Due Date\n",
      "January 31, 2016\n",
      "Total Due\n",
      "$93.50\n",
      "To:\n",
      "Test Business\n",
      "123 Somewhere St\n",
      "Melbourne, VIC 3000\n",
      "test@test.com\n",
      "Hrs/Qty\n",
      "Service\n",
      "Rate/Price\n",
      "Adjust\n",
      "Sub Total\n",
      "1.00\n",
      "Web Design\n",
      "This is a sample description...\n",
      "$85.00\n",
      "0.00%\n",
      "$85.00\n",
      "Sub Total\n",
      "$85.00\n",
      "Tax\n",
      "$8.50\n",
      "Total\n",
      "$93.50\n",
      "ANZ Bank\n",
      "ACC # 1234 1234\n",
      "BSB # 4321 432\n",
      "Paid\n",
      "\n"
     ]
    }
   ],
   "source": [
    "import PyPDF4\n",
    "FILE_PATH = 'invoice.pdf'\n",
    "with open(FILE_PATH, mode='rb') as f:\n",
    "    reader = PyPDF4.PdfFileReader(f)\n",
    "    page = reader.getPage(0)\n",
    "    txt = page.extractText();\n",
    "    print(txt)  # print all texts from invoice.pdf"
   ]
  },
  {
   "cell_type": "code",
   "execution_count": 14,
   "id": "6e4a2c78",
   "metadata": {},
   "outputs": [
    {
     "name": "stdout",
     "output_type": "stream",
     "text": [
      "['INV-3337']\n"
     ]
    }
   ],
   "source": [
    "# extract invoice number\n",
    "\n",
    "m = re.findall(\"INV-[0-9]*\", txt)\n",
    "print(m)"
   ]
  },
  {
   "cell_type": "code",
   "execution_count": 15,
   "id": "be560321",
   "metadata": {},
   "outputs": [
    {
     "name": "stdout",
     "output_type": "stream",
     "text": [
      "[]\n"
     ]
    }
   ],
   "source": [
    "# extract amounts\n",
    "m = re.findall(\"$[0-9]*\\.[0-9]*\", txt)\n",
    "print(m)"
   ]
  },
  {
   "cell_type": "code",
   "execution_count": 16,
   "id": "d2110e3c",
   "metadata": {},
   "outputs": [
    {
     "name": "stdout",
     "output_type": "stream",
     "text": [
      "['$93.50', '$85.00', '$85.00', '$85.00', '$8.50', '$93.50']\n"
     ]
    }
   ],
   "source": [
    "# extract amounts\n",
    "m = re.findall(\"\\$[0-9]*\\.[0-9]*\", txt)\n",
    "print(m)"
   ]
  },
  {
   "cell_type": "code",
   "execution_count": 17,
   "id": "57267d19",
   "metadata": {},
   "outputs": [
    {
     "name": "stdout",
     "output_type": "stream",
     "text": [
      "['Total Due\\n$93.50']\n"
     ]
    }
   ],
   "source": [
    "total = re.findall(\"Total Due\\n\\$[0-9]*\\.[0-9]*\", txt)\n",
    "print(total)"
   ]
  },
  {
   "cell_type": "code",
   "execution_count": 21,
   "id": "de586884",
   "metadata": {},
   "outputs": [
    {
     "data": {
      "text/plain": [
       "'$93.50'"
      ]
     },
     "execution_count": 21,
     "metadata": {},
     "output_type": "execute_result"
    }
   ],
   "source": [
    "m[0]"
   ]
  },
  {
   "cell_type": "code",
   "execution_count": 25,
   "id": "e6e7822c",
   "metadata": {},
   "outputs": [
    {
     "name": "stdout",
     "output_type": "stream",
     "text": [
      "['$93.50']\n"
     ]
    }
   ],
   "source": [
    "print(re.findall(\"\\$[0-9]*\\.[0-9]*\", m[0]))"
   ]
  },
  {
   "cell_type": "code",
   "execution_count": 36,
   "id": "3176956a",
   "metadata": {},
   "outputs": [
    {
     "name": "stdout",
     "output_type": "stream",
     "text": [
      "Invoice date:January 25, 2016\n"
     ]
    }
   ],
   "source": [
    "# Extract dates in this doc gieven a fixed format using line number\n",
    "res = re.split(\"\\n\", txt);\n",
    "#print(res)\n",
    "print(\"Invoice date:\" +res[18])"
   ]
  },
  {
   "cell_type": "code",
   "execution_count": 40,
   "id": "4c8218e5",
   "metadata": {},
   "outputs": [
    {
     "name": "stdout",
     "output_type": "stream",
     "text": [
      "admin@slicedinvoices.com\n"
     ]
    }
   ],
   "source": [
    "# Extract email-addresses from the PDF\n",
    "res = re.split(\"\\n\", txt);\n",
    "#print(res)\n",
    "print(res[12])"
   ]
  },
  {
   "cell_type": "code",
   "execution_count": 48,
   "id": "70a852f8",
   "metadata": {},
   "outputs": [
    {
     "name": "stdout",
     "output_type": "stream",
     "text": [
      "['Invoice', 'Payment is due within 30 days from date of invoice. Late payment is subject to fees of 5% per month.', 'Thanks for choosing ', 'DEMO - Sliced Invoices', ' | ', 'admin@slicedinvoices.com', 'Page 1/1', 'From:', 'DEMO - Sliced Invoices', 'Suite 5A-1204', '123 Somewhere Street', 'Your City AZ 12345', 'admin@slicedinvoices.com', 'Invoice Number', 'INV-3337', 'Order Number', '12345', 'Invoice Date', 'January 25, 2016', 'Due Date', 'January 31, 2016', 'Total Due', '$93.50', 'To:', 'Test Business', '123 Somewhere St', 'Melbourne, VIC 3000', 'test@test.com', 'Hrs/Qty', 'Service', 'Rate/Price', 'Adjust', 'Sub Total', '1.00', 'Web Design', 'This is a sample description...', '$85.00', '0.00%', '$85.00', 'Sub Total', '$85.00', 'Tax', '$8.50', 'Total', '$93.50', 'ANZ Bank', 'ACC # 1234 1234', 'BSB # 4321 432', 'Paid', '']\n"
     ]
    }
   ],
   "source": [
    "print(res)"
   ]
  },
  {
   "cell_type": "code",
   "execution_count": 73,
   "id": "1d28d98b",
   "metadata": {},
   "outputs": [
    {
     "name": "stdout",
     "output_type": "stream",
     "text": [
      "From: admin@slicedinvoices.com\n",
      "To: test@test.com\n"
     ]
    }
   ],
   "source": [
    "c = 0\n",
    "for i in res:\n",
    "    c+=1\n",
    "    if i == 'From:':\n",
    "        #print(c)\n",
    "        print(\"From:\",res[c+4])\n",
    "        \n",
    "    if i == 'To:':\n",
    "        #print(c)\n",
    "        print(\"To:\",res[c+3])"
   ]
  },
  {
   "cell_type": "markdown",
   "id": "1b0c2c4c",
   "metadata": {},
   "source": [
    "## 5. Regex matching problem\n",
    "> \"?\" matches a single character \\\n",
    "> \"*\" matches zero or more charcters \\\n",
    "> Given a pattern(p) and a string(s), does p match s? \\\n",
    "examples: \\\n",
    "TRUE: (\"*\", \"ab\"), (\"?a\" ,\"ba\"), (\"?a\" ,\"aa\"), (\"a*\" ,\"a\") \\\n",
    "FALSE: (\"*a\", \"ab\"), (\"?a\" ,\"baa\"), (\"?a\" ,\"a\"), (\"a*\" ,\"ba\")"
   ]
  },
  {
   "cell_type": "code",
   "execution_count": 10,
   "id": "37b0fa91",
   "metadata": {},
   "outputs": [],
   "source": [
    "def regex(s1, s2):\n",
    "    if s1 == s2:\n",
    "        return True\n",
    "    \n",
    "    if s1 == \"*\":\n",
    "        return True\n",
    "    \n",
    "    if s1 == \"\" or s2 == \"\":\n",
    "        return False\n",
    "    \n",
    "    if s1[0] == s2[0] or s1[0] == '?':\n",
    "        return regex(s1[1:], s2[1:])\n",
    "    \n",
    "    if s1[0] == \"*\":\n",
    "        return ( regex( s1[1:], s2) or regex( s1, s2[1:]))\n",
    "    \n",
    "    if s1[0] != s2[0]:\n",
    "        return False"
   ]
  },
  {
   "cell_type": "code",
   "execution_count": 11,
   "id": "b944c9cd",
   "metadata": {},
   "outputs": [
    {
     "name": "stdout",
     "output_type": "stream",
     "text": [
      "True\n"
     ]
    }
   ],
   "source": [
    "print(regex(\"*\",\"ab\"))"
   ]
  },
  {
   "cell_type": "code",
   "execution_count": 13,
   "id": "93ff34cc",
   "metadata": {},
   "outputs": [
    {
     "name": "stdout",
     "output_type": "stream",
     "text": [
      "True\n"
     ]
    }
   ],
   "source": [
    "print(regex(\"*a\" ,\"baa\"))"
   ]
  },
  {
   "cell_type": "code",
   "execution_count": null,
   "id": "ddaf0592",
   "metadata": {},
   "outputs": [],
   "source": []
  },
  {
   "cell_type": "code",
   "execution_count": null,
   "id": "a8172c7f",
   "metadata": {},
   "outputs": [],
   "source": []
  },
  {
   "cell_type": "code",
   "execution_count": null,
   "id": "8ec044d9",
   "metadata": {},
   "outputs": [],
   "source": []
  },
  {
   "cell_type": "code",
   "execution_count": null,
   "id": "7769bb28",
   "metadata": {},
   "outputs": [],
   "source": []
  },
  {
   "cell_type": "code",
   "execution_count": null,
   "id": "17d3e11f",
   "metadata": {},
   "outputs": [],
   "source": []
  }
 ],
 "metadata": {
  "kernelspec": {
   "display_name": "Python 3 (ipykernel)",
   "language": "python",
   "name": "python3"
  },
  "language_info": {
   "codemirror_mode": {
    "name": "ipython",
    "version": 3
   },
   "file_extension": ".py",
   "mimetype": "text/x-python",
   "name": "python",
   "nbconvert_exporter": "python",
   "pygments_lexer": "ipython3",
   "version": "3.9.13"
  }
 },
 "nbformat": 4,
 "nbformat_minor": 5
}
