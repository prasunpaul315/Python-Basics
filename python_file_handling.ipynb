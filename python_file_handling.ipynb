{
 "cells": [
  {
   "cell_type": "markdown",
   "id": "c73b9db1",
   "metadata": {},
   "source": [
    "## 1. Write data onto a txt file"
   ]
  },
  {
   "cell_type": "code",
   "execution_count": 7,
   "id": "6c890434",
   "metadata": {},
   "outputs": [
    {
     "name": "stdout",
     "output_type": "stream",
     "text": [
      "enter your age25\n"
     ]
    }
   ],
   "source": [
    "age  = input(\"enter your age\")\n",
    "f = open(\"data.txt\", 'w')\n",
    "f.write(age)\n",
    "f.close()"
   ]
  },
  {
   "cell_type": "code",
   "execution_count": 8,
   "id": "88f23095",
   "metadata": {},
   "outputs": [
    {
     "name": "stdout",
     "output_type": "stream",
     "text": [
      "25\n"
     ]
    }
   ],
   "source": [
    "f = open(\"data.txt\", \"r\")\n",
    "print(f.read())\n",
    "f.close()"
   ]
  },
  {
   "cell_type": "markdown",
   "id": "36dfb05c",
   "metadata": {},
   "source": [
    "## 2. Reading data from existing file"
   ]
  },
  {
   "cell_type": "code",
   "execution_count": 12,
   "id": "48e6025b",
   "metadata": {},
   "outputs": [
    {
     "name": "stdout",
     "output_type": "stream",
     "text": [
      "successfully opened\n",
      "<class '_io.TextIOWrapper'>\n",
      "content of file:  hello world\n",
      "successfully closed\n"
     ]
    }
   ],
   "source": [
    "f = open(\"hello.txt\", )\n",
    "if f:\n",
    "    print(\"successfully opened\")\n",
    "    print(type(f))\n",
    "    print(\"content of file: \", f.read())\n",
    "    f.close()\n",
    "    print(\"successfully closed\")\n"
   ]
  },
  {
   "cell_type": "code",
   "execution_count": 15,
   "id": "c31164e1",
   "metadata": {},
   "outputs": [
    {
     "name": "stdout",
     "output_type": "stream",
     "text": [
      "opened\n",
      "<_io.TextIOWrapper name='hello.txt' mode='r' encoding='utf-8'>\n"
     ]
    }
   ],
   "source": [
    "f = open(\"hello.txt\", mode='r', buffering=10, encoding='utf-8')\n",
    "if(f):\n",
    "    print(\"opened\")\n",
    "    print(f)\n",
    "    f.close()"
   ]
  },
  {
   "cell_type": "markdown",
   "id": "c7043a45",
   "metadata": {},
   "source": [
    "## 3. Checking information"
   ]
  },
  {
   "cell_type": "code",
   "execution_count": 28,
   "id": "f030f1b3",
   "metadata": {},
   "outputs": [
    {
     "name": "stdout",
     "output_type": "stream",
     "text": [
      "file name:  hello.txt\n",
      "encoding:  utf-8\n",
      "mode:  r\n",
      "is file closed ?  False\n",
      "is file closed ?  True\n"
     ]
    }
   ],
   "source": [
    "f = open('hello.txt', 'r', encoding='utf-8')\n",
    "print(\"file name: \", f.name)\n",
    "print(\"encoding: \", f.encoding)\n",
    "print(\"mode: \", f.mode)\n",
    "print(\"is file closed ? \", f.closed)\n",
    "f.close()\n",
    "print(\"is file closed ? \", f.closed)"
   ]
  },
  {
   "cell_type": "code",
   "execution_count": 30,
   "id": "c3189a5f",
   "metadata": {},
   "outputs": [
    {
     "name": "stdout",
     "output_type": "stream",
     "text": [
      "True\n",
      "False\n"
     ]
    }
   ],
   "source": [
    "f = open('hello.txt', 'r', encoding='utf-8')\n",
    "print(f.readable())\n",
    "print(f.writable())\n",
    "f.close()"
   ]
  },
  {
   "cell_type": "code",
   "execution_count": 31,
   "id": "f9b80061",
   "metadata": {},
   "outputs": [
    {
     "name": "stdout",
     "output_type": "stream",
     "text": [
      "False\n",
      "True\n"
     ]
    }
   ],
   "source": [
    "f = open('hello.txt', 'w', encoding='utf-8')\n",
    "print(f.readable())\n",
    "print(f.writable())\n",
    "f.close()"
   ]
  },
  {
   "cell_type": "code",
   "execution_count": 34,
   "id": "813f0382",
   "metadata": {},
   "outputs": [
    {
     "name": "stdout",
     "output_type": "stream",
     "text": [
      "True\n",
      "True\n"
     ]
    }
   ],
   "source": [
    "f = open('hello.txt', 'w+', encoding='utf-8')\n",
    "print(f.readable())\n",
    "print(f.writable())\n",
    "f.close()"
   ]
  },
  {
   "cell_type": "markdown",
   "id": "d81bd2be",
   "metadata": {},
   "source": [
    "## 4. checking file exist or not"
   ]
  },
  {
   "cell_type": "code",
   "execution_count": 37,
   "id": "b2f7b9e7",
   "metadata": {},
   "outputs": [
    {
     "data": {
      "text/plain": [
       "True"
      ]
     },
     "execution_count": 37,
     "metadata": {},
     "output_type": "execute_result"
    }
   ],
   "source": [
    "import os\n",
    "os.path.isfile('hello.txt')"
   ]
  },
  {
   "cell_type": "code",
   "execution_count": 38,
   "id": "df4e1ad0",
   "metadata": {},
   "outputs": [
    {
     "data": {
      "text/plain": [
       "False"
      ]
     },
     "execution_count": 38,
     "metadata": {},
     "output_type": "execute_result"
    }
   ],
   "source": [
    "import os\n",
    "os.path.isfile('hell.txt')"
   ]
  },
  {
   "cell_type": "code",
   "execution_count": 39,
   "id": "5acf08e9",
   "metadata": {},
   "outputs": [
    {
     "name": "stdout",
     "output_type": "stream",
     "text": [
      "hello\n",
      "how\n",
      "are\n",
      "you\n"
     ]
    }
   ],
   "source": [
    "f = open('file.txt', mode='r')\n",
    "data = f.read()\n",
    "print(data)\n",
    "f.close()"
   ]
  },
  {
   "cell_type": "markdown",
   "id": "20ba8548",
   "metadata": {},
   "source": [
    "> in text mode data gets encoded"
   ]
  },
  {
   "cell_type": "code",
   "execution_count": 42,
   "id": "4f4ed9e9",
   "metadata": {},
   "outputs": [
    {
     "name": "stdout",
     "output_type": "stream",
     "text": [
      "b'hello\\r\\nhow\\r\\nare\\r\\nyou'\n"
     ]
    }
   ],
   "source": [
    "f = open('file.txt', mode='rb')\n",
    "data1 = f.read()\n",
    "print(data1)\n",
    "f.close()"
   ]
  },
  {
   "cell_type": "markdown",
   "id": "0a80544c",
   "metadata": {},
   "source": [
    "> in binary mode data is not encoded"
   ]
  },
  {
   "cell_type": "code",
   "execution_count": 44,
   "id": "3768ff91",
   "metadata": {},
   "outputs": [
    {
     "name": "stdout",
     "output_type": "stream",
     "text": [
      "hello\n",
      "ho\n"
     ]
    }
   ],
   "source": [
    "f = open('file.txt', mode='r')\n",
    "data = f.read(8)\n",
    "print(data)\n",
    "f.close()"
   ]
  },
  {
   "cell_type": "markdown",
   "id": "81e5cbdd",
   "metadata": {},
   "source": [
    "> Takes extra char for new line '\\n'"
   ]
  },
  {
   "cell_type": "code",
   "execution_count": 51,
   "id": "218ee03e",
   "metadata": {},
   "outputs": [
    {
     "name": "stdout",
     "output_type": "stream",
     "text": [
      "hello\n",
      "h\n",
      "ow\n",
      "ar\n"
     ]
    }
   ],
   "source": [
    "f = open('file.txt', mode='r')\n",
    "data = f.read(7)\n",
    "data1 = f.read(5)\n",
    "print(data)\n",
    "print(data1)\n",
    "f.close()"
   ]
  },
  {
   "cell_type": "code",
   "execution_count": 68,
   "id": "1ef008f8",
   "metadata": {},
   "outputs": [
    {
     "name": "stdout",
     "output_type": "stream",
     "text": [
      "hello\n",
      "\n"
     ]
    }
   ],
   "source": [
    "f = open('file.txt', mode='r')\n",
    "data = f.readline(1)\n",
    "data1 = f.readline()\n",
    "print(data, end=\"\")\n",
    "print(data1)\n",
    "f.close()"
   ]
  },
  {
   "cell_type": "markdown",
   "id": "83b72e51",
   "metadata": {},
   "source": [
    "> first readline read 1st char and 2nd readline read till last char of 1st line"
   ]
  },
  {
   "cell_type": "markdown",
   "id": "48178523",
   "metadata": {},
   "source": [
    "## 5. Reading data using for loop"
   ]
  },
  {
   "cell_type": "code",
   "execution_count": 72,
   "id": "67e96d4e",
   "metadata": {},
   "outputs": [
    {
     "name": "stdout",
     "output_type": "stream",
     "text": [
      "hello\n",
      "how\n",
      "are\n",
      "you"
     ]
    }
   ],
   "source": [
    "f = open('file.txt', mode='r')\n",
    "data = f.readlines()\n",
    "for i in data:    \n",
    "    print(i, end=\"\")\n",
    "f.close()"
   ]
  },
  {
   "cell_type": "code",
   "execution_count": 79,
   "id": "6dae0d25",
   "metadata": {},
   "outputs": [
    {
     "name": "stdout",
     "output_type": "stream",
     "text": [
      "hello\n",
      "how\n",
      "are\n",
      "you"
     ]
    }
   ],
   "source": [
    "f = open('file.txt', mode='r')\n",
    "#print(list(f))\n",
    "for i in f:\n",
    "    print(i, end=\"\")"
   ]
  },
  {
   "cell_type": "markdown",
   "id": "75e04911",
   "metadata": {},
   "source": [
    "## 6. use tell() method to change cursor position in a perticular line"
   ]
  },
  {
   "cell_type": "code",
   "execution_count": 88,
   "id": "5ed35040",
   "metadata": {},
   "outputs": [
    {
     "name": "stdout",
     "output_type": "stream",
     "text": [
      "0\n",
      "3\n",
      "20\n"
     ]
    }
   ],
   "source": [
    "f = open('file.txt', mode='r')\n",
    "print(f.tell())      # return initial cursor position\n",
    "f.read(3)            # return cursor position 3\n",
    "print(f.tell())\n",
    "f.read()\n",
    "print(f.tell())\n",
    "f.close()"
   ]
  },
  {
   "cell_type": "code",
   "execution_count": 93,
   "id": "0c3ced1d",
   "metadata": {},
   "outputs": [
    {
     "name": "stdout",
     "output_type": "stream",
     "text": [
      "0\n",
      "hel\n",
      "**********\n",
      "hello\n",
      "how\n",
      "are\n",
      "you\n"
     ]
    }
   ],
   "source": [
    "f = open('file.txt', mode='r')\n",
    "print(f.tell())\n",
    "print(f.read(3))\n",
    "f.seek(0)\n",
    "print(\"**********\")\n",
    "print(f.read())\n",
    "f.close()"
   ]
  },
  {
   "cell_type": "markdown",
   "id": "a402a9e2",
   "metadata": {},
   "source": [
    "## 7. write onto a file"
   ]
  },
  {
   "cell_type": "code",
   "execution_count": 100,
   "id": "9772f5e6",
   "metadata": {},
   "outputs": [
    {
     "name": "stdout",
     "output_type": "stream",
     "text": [
      "hello\n",
      "world\n",
      "******************************\n",
      "hello\n",
      "worldbye bye\n"
     ]
    }
   ],
   "source": [
    "f = open('hello.txt', mode='w')\n",
    "f.write(\"hello\\nworld\")\n",
    "f.close()\n",
    "f = open('hello.txt', mode='r')\n",
    "print(f.read())\n",
    "\n",
    "print(30*\"*\")\n",
    "\n",
    "f = open('hello.txt', mode='w')\n",
    "f.write(\"hello\\nworld\")\n",
    "f.write(\"bye bye\")\n",
    "f.close()\n",
    "f = open('hello.txt', mode='r')\n",
    "print(f.read())"
   ]
  },
  {
   "cell_type": "code",
   "execution_count": 123,
   "id": "f2e8024a",
   "metadata": {},
   "outputs": [
    {
     "name": "stdout",
     "output_type": "stream",
     "text": [
      "['hello\\n', 'worldbye bye']\n"
     ]
    }
   ],
   "source": [
    "f1 = open('hello.txt', mode='r', encoding='utf-8')\n",
    "f2 = open('copyy.txt', mode='w', encoding='utf-8')\n",
    "\n",
    "#print(f1.readlines())\n",
    "\n",
    "data = f1.readlines()\n",
    "\n",
    "for line in data:\n",
    "    f2.write(line)\n",
    "    \n",
    "f1.close()\n",
    "f2.close()\n",
    "\n",
    "f2 = open('copyy.txt', mode='r', encoding='utf-8')\n",
    "print(f2.readlines())\n",
    "f2.close()\n"
   ]
  },
  {
   "cell_type": "markdown",
   "id": "a2731b16",
   "metadata": {},
   "source": [
    "## 8. merge mltiple files"
   ]
  },
  {
   "cell_type": "code",
   "execution_count": 128,
   "id": "30dc721c",
   "metadata": {},
   "outputs": [
    {
     "name": "stdout",
     "output_type": "stream",
     "text": [
      "enter file name1\n",
      "want to insert any other file ? y/ny\n",
      "enter file name99\n",
      "enter file name2\n",
      "want to insert any other file ? y/ny\n",
      "enter file name3\n",
      "want to insert any other file ? y/nn\n",
      "1\n",
      "2\n",
      "3\n",
      "\n"
     ]
    }
   ],
   "source": [
    "import os\n",
    "files = []\n",
    "merged_data = \"\"\n",
    "\n",
    "while True:\n",
    "    f_name = input(\"enter file name\")\n",
    "    if os.path.isfile(f_name+'.txt'):  \n",
    "        files.append(f_name)\n",
    "        ans = input(\"want to insert any other file ? y/n\").lower()\n",
    "        if ans!='y':\n",
    "            break\n",
    "    else:\n",
    "        continue\n",
    "        \n",
    "for file in files:\n",
    "    filename = file+\".txt\"\n",
    "    f = open(filename, mode='r', encoding='utf-8')\n",
    "    merged_data = merged_data + f.read() + '\\n'\n",
    "    \n",
    "print(merged_data)\n",
    "\n",
    "f_merge = open('merge.txt', mode='w', encoding='utf-8')\n",
    "f_merge.write(merged_data)\n",
    "f_merge.close()"
   ]
  },
  {
   "cell_type": "code",
   "execution_count": null,
   "id": "3f378e7c",
   "metadata": {},
   "outputs": [],
   "source": []
  },
  {
   "cell_type": "code",
   "execution_count": null,
   "id": "003445ff",
   "metadata": {},
   "outputs": [],
   "source": []
  },
  {
   "cell_type": "code",
   "execution_count": null,
   "id": "e8815db7",
   "metadata": {},
   "outputs": [],
   "source": []
  }
 ],
 "metadata": {
  "kernelspec": {
   "display_name": "Python 3 (ipykernel)",
   "language": "python",
   "name": "python3"
  },
  "language_info": {
   "codemirror_mode": {
    "name": "ipython",
    "version": 3
   },
   "file_extension": ".py",
   "mimetype": "text/x-python",
   "name": "python",
   "nbconvert_exporter": "python",
   "pygments_lexer": "ipython3",
   "version": "3.9.13"
  }
 },
 "nbformat": 4,
 "nbformat_minor": 5
}
